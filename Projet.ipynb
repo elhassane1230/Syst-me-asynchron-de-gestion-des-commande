{
 "cells": [
  {
   "cell_type": "code",
   "execution_count": null,
   "id": "e0c5cf58-e7e1-49a8-8fc8-be9906fef056",
   "metadata": {},
   "outputs": [
    {
     "name": "stdout",
     "output_type": "stream",
     "text": [
      "\u001b[32mINFO\u001b[0m:     Will watch for changes in these directories: ['/home/pourtoi/Bureau/taher/test']\n",
      "\u001b[32mINFO\u001b[0m:     Uvicorn running on \u001b[1mhttp://127.0.0.1:8000\u001b[0m (Press CTRL+C to quit)\n",
      "\u001b[32mINFO\u001b[0m:     Started reloader process [\u001b[36m\u001b[1m16636\u001b[0m] using \u001b[36m\u001b[1mStatReload\u001b[0m\n",
      "\u001b[32mINFO\u001b[0m:     Started server process [\u001b[36m16639\u001b[0m]\n",
      "\u001b[32mINFO\u001b[0m:     Waiting for application startup.\n",
      "\u001b[32mINFO\u001b[0m:     Application startup complete.\n",
      "\u001b[32mINFO\u001b[0m:     127.0.0.1:33246 - \"\u001b[1mGET / HTTP/1.1\u001b[0m\" \u001b[32m200 OK\u001b[0m\n",
      "\u001b[32mINFO\u001b[0m:     127.0.0.1:39718 - \"\u001b[1mGET / HTTP/1.1\u001b[0m\" \u001b[32m200 OK\u001b[0m\n",
      "\u001b[32mINFO\u001b[0m:     127.0.0.1:38914 - \"\u001b[1mPOST /login/ HTTP/1.1\u001b[0m\" \u001b[33m302 Found\u001b[0m\n",
      "\u001b[32mINFO\u001b[0m:     127.0.0.1:38914 - \"\u001b[1mGET /client HTTP/1.1\u001b[0m\" \u001b[32m200 OK\u001b[0m\n",
      "\u001b[32mINFO\u001b[0m:     127.0.0.1:40124 - \"\u001b[1mGET /place_order HTTP/1.1\u001b[0m\" \u001b[32m200 OK\u001b[0m\n",
      "\u001b[32mINFO\u001b[0m:     127.0.0.1:59256 - \"\u001b[1mPOST /place_order/ HTTP/1.1\u001b[0m\" \u001b[32m200 OK\u001b[0m\n",
      "\u001b[32mINFO\u001b[0m:     127.0.0.1:59272 - \"\u001b[1mGET /client HTTP/1.1\u001b[0m\" \u001b[32m200 OK\u001b[0m\n",
      "\u001b[32mINFO\u001b[0m:     127.0.0.1:41452 - \"\u001b[1mPOST /login/ HTTP/1.1\u001b[0m\" \u001b[33m302 Found\u001b[0m\n",
      "\u001b[32mINFO\u001b[0m:     127.0.0.1:41452 - \"\u001b[1mGET /admin HTTP/1.1\u001b[0m\" \u001b[32m200 OK\u001b[0m\n",
      "\u001b[32mINFO\u001b[0m:     127.0.0.1:37360 - \"\u001b[1mGET /inventory HTTP/1.1\u001b[0m\" \u001b[32m200 OK\u001b[0m\n",
      "\u001b[32mINFO\u001b[0m:     127.0.0.1:41838 - \"\u001b[1mGET /validate_order HTTP/1.1\u001b[0m\" \u001b[32m200 OK\u001b[0m\n",
      "\u001b[32mINFO\u001b[0m:     127.0.0.1:41840 - \"\u001b[1mPOST /validate_order HTTP/1.1\u001b[0m\" \u001b[32m200 OK\u001b[0m\n",
      "Error in request_quote_validation: __aexit__\n",
      "\u001b[32mINFO\u001b[0m:     127.0.0.1:41840 - \"\u001b[1mGET /admin HTTP/1.1\u001b[0m\" \u001b[32m200 OK\u001b[0m\n",
      "\u001b[32mINFO\u001b[0m:     127.0.0.1:46146 - \"\u001b[1mGET /validate_quote HTTP/1.1\u001b[0m\" \u001b[32m200 OK\u001b[0m\n",
      "\u001b[32mINFO\u001b[0m:     127.0.0.1:59538 - \"\u001b[1mPOST /validate_quote HTTP/1.1\u001b[0m\" \u001b[32m200 OK\u001b[0m\n",
      "\u001b[32mINFO\u001b[0m:     127.0.0.1:59538 - \"\u001b[1mGET /admin HTTP/1.1\u001b[0m\" \u001b[32m200 OK\u001b[0m\n",
      "\u001b[32mINFO\u001b[0m:     127.0.0.1:47312 - \"\u001b[1mGET /client HTTP/1.1\u001b[0m\" \u001b[32m200 OK\u001b[0m\n",
      "\u001b[32mINFO\u001b[0m:     127.0.0.1:33536 - \"\u001b[1mGET /confirm_quote HTTP/1.1\u001b[0m\" \u001b[32m200 OK\u001b[0m\n",
      "\u001b[32mINFO\u001b[0m:     127.0.0.1:35106 - \"\u001b[1mPOST /confirm_quote HTTP/1.1\u001b[0m\" \u001b[32m200 OK\u001b[0m\n",
      "\u001b[32mINFO\u001b[0m:     127.0.0.1:35106 - \"\u001b[1mGET /client HTTP/1.1\u001b[0m\" \u001b[32m200 OK\u001b[0m\n",
      "\u001b[32mINFO\u001b[0m:     127.0.0.1:34382 - \"\u001b[1mGET /admin HTTP/1.1\u001b[0m\" \u001b[32m200 OK\u001b[0m\n",
      "\u001b[32mINFO\u001b[0m:     127.0.0.1:34390 - \"\u001b[1mGET /execute_service HTTP/1.1\u001b[0m\" \u001b[32m200 OK\u001b[0m\n",
      "\u001b[32mINFO\u001b[0m:     127.0.0.1:56820 - \"\u001b[1mPOST /execute_service HTTP/1.1\u001b[0m\" \u001b[32m200 OK\u001b[0m\n",
      "\u001b[32mINFO\u001b[0m:     127.0.0.1:56820 - \"\u001b[1mGET /admin HTTP/1.1\u001b[0m\" \u001b[32m200 OK\u001b[0m\n",
      "\u001b[32mINFO\u001b[0m:     127.0.0.1:54116 - \"\u001b[1mGET /verify_service_completion HTTP/1.1\u001b[0m\" \u001b[32m200 OK\u001b[0m\n",
      "\u001b[32mINFO\u001b[0m:     127.0.0.1:49682 - \"\u001b[1mPOST /verify_service_completion HTTP/1.1\u001b[0m\" \u001b[32m200 OK\u001b[0m\n",
      "\u001b[32mINFO\u001b[0m:     127.0.0.1:46978 - \"\u001b[1mGET /client HTTP/1.1\u001b[0m\" \u001b[32m200 OK\u001b[0m\n",
      "\u001b[32mINFO\u001b[0m:     127.0.0.1:34036 - \"\u001b[1mGET /conclude_process HTTP/1.1\u001b[0m\" \u001b[32m200 OK\u001b[0m\n",
      "\u001b[32mINFO\u001b[0m:     127.0.0.1:54784 - \"\u001b[1mPOST /conclude_process HTTP/1.1\u001b[0m\" \u001b[32m200 OK\u001b[0m\n",
      "\u001b[32mINFO\u001b[0m:     127.0.0.1:54784 - \"\u001b[1mGET /admin HTTP/1.1\u001b[0m\" \u001b[32m200 OK\u001b[0m\n",
      "\u001b[32mINFO\u001b[0m:     127.0.0.1:58652 - \"\u001b[1mGET /inventory HTTP/1.1\u001b[0m\" \u001b[32m200 OK\u001b[0m\n",
      "\u001b[32mINFO\u001b[0m:     127.0.0.1:33610 - \"\u001b[1mGET /place_order HTTP/1.1\u001b[0m\" \u001b[32m200 OK\u001b[0m\n",
      "\u001b[32mINFO\u001b[0m:     127.0.0.1:53296 - \"\u001b[1mPOST /place_order/ HTTP/1.1\u001b[0m\" \u001b[32m200 OK\u001b[0m\n",
      "\u001b[32mINFO\u001b[0m:     127.0.0.1:53296 - \"\u001b[1mGET /client HTTP/1.1\u001b[0m\" \u001b[32m200 OK\u001b[0m\n",
      "\u001b[32mINFO\u001b[0m:     127.0.0.1:50236 - \"\u001b[1mGET /admin HTTP/1.1\u001b[0m\" \u001b[32m200 OK\u001b[0m\n",
      "\u001b[32mINFO\u001b[0m:     127.0.0.1:50236 - \"\u001b[1mGET /favicon.ico HTTP/1.1\u001b[0m\" \u001b[31m404 Not Found\u001b[0m\n",
      "\u001b[32mINFO\u001b[0m:     127.0.0.1:45296 - \"\u001b[1mGET /logout/ HTTP/1.1\u001b[0m\" \u001b[33m302 Found\u001b[0m\n",
      "\u001b[32mINFO\u001b[0m:     127.0.0.1:45296 - \"\u001b[1mGET / HTTP/1.1\u001b[0m\" \u001b[32m200 OK\u001b[0m\n",
      "\u001b[32mINFO\u001b[0m:     127.0.0.1:45296 - \"\u001b[1mGET /logout/ HTTP/1.1\u001b[0m\" \u001b[33m302 Found\u001b[0m\n",
      "\u001b[32mINFO\u001b[0m:     127.0.0.1:45296 - \"\u001b[1mGET / HTTP/1.1\u001b[0m\" \u001b[32m200 OK\u001b[0m\n"
     ]
    }
   ],
   "source": [
    "!uvicorn main2:app --reload"
   ]
  },
  {
   "cell_type": "code",
   "execution_count": 1,
   "id": "1a1ca639-e4ba-4e48-a6b6-2f38e861147e",
   "metadata": {},
   "outputs": [],
   "source": [
    "from main2 import SessionLocal, Client, Order, Quote,Inventory\n",
    "\n",
    "# Créer une session SQLAlchemy\n",
    "db = SessionLocal()\n",
    "\n",
    "# # Créer des clients\n",
    "client1 = Client(name=\"Elhassane\", email=\"Elhassane@mail.com\", phone_number=\"123456789\",username=\"tal\",password=\"1230\")\n",
    "client2 = Client(name=\"Mouhcine\", email=\"Mouhcine@mail.com\", phone_number=\"987654321\", username=\"asse\", password=\"0321\")\n",
    "db.add(client1)\n",
    "db.add(client2)\n",
    "db.commit()\n",
    "# Créer des produits\n",
    "prod1 = Inventory(name=\"Phone\", quantity=100,price=350)\n",
    "prod2 = Inventory(name=\"Laptop\", quantity=100,price=500)\n",
    "prod3 = Inventory(name=\"Cable-hdmi\", quantity=100,price=50)\n",
    "prod4 = Inventory(name=\"HeadPhone\", quantity=100,price=30)\n",
    "# Ajouter les produits à la base de données\n",
    "db.add(prod1)\n",
    "db.add(prod2)\n",
    "db.add(prod3)\n",
    "db.add(prod4)\n",
    "db.commit()\n",
    "\n",
    "db.close()"
   ]
  }
 ],
 "metadata": {
  "kernelspec": {
   "display_name": "Python 3 (ipykernel)",
   "language": "python",
   "name": "python3"
  },
  "language_info": {
   "codemirror_mode": {
    "name": "ipython",
    "version": 3
   },
   "file_extension": ".py",
   "mimetype": "text/x-python",
   "name": "python",
   "nbconvert_exporter": "python",
   "pygments_lexer": "ipython3",
   "version": "3.8.10"
  }
 },
 "nbformat": 4,
 "nbformat_minor": 5
}
